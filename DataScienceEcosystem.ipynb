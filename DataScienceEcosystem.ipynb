{
 "cells": [
  {
   "cell_type": "markdown",
   "id": "12f8ff06-94fd-4baf-8cd3-3a011f1d0252",
   "metadata": {},
   "source": [
    "# Data Science Tools and Ecosystem"
   ]
  },
  {
   "cell_type": "markdown",
   "id": "a77429a2-0585-4dd7-8899-2d5996a507dc",
   "metadata": {},
   "source": [
    "# In this notebook, Data Science Tools and Ecosystem are summarized."
   ]
  },
  {
   "cell_type": "markdown",
   "id": "3628ef56-8ad7-4f81-9f66-e2b6a1f716e5",
   "metadata": {},
   "source": [
    "**Objectives:**\n",
    "- Some of the popular languages that Data Scientists use are\n",
    "- Some of the commonly used libraries used by Data Scientists include\n",
    "- Data Science Tools"
   ]
  },
  {
   "cell_type": "markdown",
   "id": "86e34c85-62a8-4885-9417-801a88a28f77",
   "metadata": {},
   "source": [
    "# Some of the popular languages that Data Scientists use are:\n",
    "1. python\n",
    "2. java\n",
    "3. R\n",
    "4. C++"
   ]
  },
  {
   "cell_type": "markdown",
   "id": "dcf296cd-1c61-4b81-80cf-05665530a053",
   "metadata": {},
   "source": []
  },
  {
   "cell_type": "markdown",
   "id": "fc2f98b0-24f2-4762-84a5-d7d63db0c92e",
   "metadata": {},
   "source": [
    "# Some of the commonly used libraries used by Data Scientists include\n",
    "1. pands\n",
    "2. numpy\n",
    "3. matlab\n"
   ]
  },
  {
   "cell_type": "markdown",
   "id": "e20dcdd7-a4d0-4bdc-afad-00075e9f4e93",
   "metadata": {},
   "source": [
    "# Data Science Tools\n",
    "| Data Science Tools | \n",
    "-----------------------\n",
    "| MySQL |\n",
    "| Power BI |\n",
    "|  Apache Superset |"
   ]
  },
  {
   "cell_type": "markdown",
   "id": "c42c7625-965b-48d8-a6a3-e0073af11649",
   "metadata": {},
   "source": [
    "# Below are a few examples of evaluating arithmetic expressions in Python"
   ]
  },
  {
   "cell_type": "code",
   "execution_count": 16,
   "id": "bf5bffea-6337-4b67-b747-a8e6abcc72a3",
   "metadata": {},
   "outputs": [
    {
     "data": {
      "text/plain": [
       "17"
      ]
     },
     "execution_count": 16,
     "metadata": {},
     "output_type": "execute_result"
    }
   ],
   "source": [
    "# This a simple arithmetic expression to mutiply then add integers\n",
    "(3*4)+5"
   ]
  },
  {
   "cell_type": "code",
   "execution_count": 19,
   "id": "70d84143-7eb3-44a8-b370-d8c057eb7194",
   "metadata": {},
   "outputs": [
    {
     "data": {
      "text/plain": [
       "3.3333333333333335"
      ]
     },
     "execution_count": 19,
     "metadata": {},
     "output_type": "execute_result"
    }
   ],
   "source": [
    "# This will convert 200 minutes to hours by diving by 60\n",
    "200/60"
   ]
  },
  {
   "cell_type": "code",
   "execution_count": null,
   "id": "f28f3007-47be-44bd-a657-8e17b9c62f01",
   "metadata": {},
   "outputs": [],
   "source": []
  },
  {
   "cell_type": "markdown",
   "id": "c91b62c0-01e3-4d03-86d7-91408578b4bb",
   "metadata": {},
   "source": [
    "## Author\n",
    "# Prasadam Guru Prasad"
   ]
  }
 ],
 "metadata": {
  "kernelspec": {
   "display_name": "Python",
   "language": "python",
   "name": "conda-env-python-py"
  },
  "language_info": {
   "codemirror_mode": {
    "name": "ipython",
    "version": 3
   },
   "file_extension": ".py",
   "mimetype": "text/x-python",
   "name": "python",
   "nbconvert_exporter": "python",
   "pygments_lexer": "ipython3",
   "version": "3.7.12"
  }
 },
 "nbformat": 4,
 "nbformat_minor": 5
}
